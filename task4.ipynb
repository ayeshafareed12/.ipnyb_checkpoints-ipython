{
 "cells": [
  {
   "cell_type": "code",
   "execution_count": 1,
   "id": "36eb6ee4",
   "metadata": {},
   "outputs": [
    {
     "name": "stdout",
     "output_type": "stream",
     "text": [
      "enter 1st number ayesha\n",
      "Sorry\n"
     ]
    }
   ],
   "source": [
    "def takei(s):\n",
    "    if x == \"yes\":\n",
    "        s=\"Shuting down\"\n",
    "    elif x == \"no\":\n",
    "        s=\"Shutdown aborted\" \n",
    "    else:    \n",
    "        s= \"Sorry\"\n",
    "    return s\n",
    "x = input(\"enter 1st number \")\n",
    "z = (takei(x))\n",
    "print( str(z))     "
   ]
  },
  {
   "cell_type": "code",
   "execution_count": null,
   "id": "6275ae15",
   "metadata": {},
   "outputs": [],
   "source": []
  },
  {
   "cell_type": "code",
   "execution_count": null,
   "id": "5de6e16d",
   "metadata": {},
   "outputs": [],
   "source": []
  }
 ],
 "metadata": {
  "kernelspec": {
   "display_name": "Python 3 (ipykernel)",
   "language": "python",
   "name": "python3"
  },
  "language_info": {
   "codemirror_mode": {
    "name": "ipython",
    "version": 3
   },
   "file_extension": ".py",
   "mimetype": "text/x-python",
   "name": "python",
   "nbconvert_exporter": "python",
   "pygments_lexer": "ipython3",
   "version": "3.8.9"
  }
 },
 "nbformat": 4,
 "nbformat_minor": 5
}

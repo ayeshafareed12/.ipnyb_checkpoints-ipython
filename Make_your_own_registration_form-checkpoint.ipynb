{
 "cells": [
  {
   "cell_type": "markdown",
   "metadata": {
    "colab_type": "text",
    "id": "view-in-github"
   },
   "source": [
    "<a href=\"https://colab.research.google.com/github/Shambhavi-Gupta/Make_your_own_registration_form/blob/main/Make_your_own_registration_form.ipynb\" target=\"_parent\"><img src=\"https://colab.research.google.com/assets/colab-badge.svg\" alt=\"Open In Colab\"/></a>"
   ]
  },
  {
   "cell_type": "code",
   "execution_count": null,
   "metadata": {
    "id": "UH2J8N7Vvt_2"
   },
   "outputs": [],
   "source": [
    "from tkinter import *\n",
    "root = Tk()\n",
    "root.geometry(\"500x300\")\n",
    "\n",
    "def getvals():\n",
    "    print(\"Your form has been submitted\")\n",
    "\n",
    "Label(root, text=\"Python Registration Form\", font=\"times 15 bold\").grid(row=0, column=3)\n",
    "\n",
    "Name = Label(root, text = \"Name\")\n",
    "Name.grid(row=1, column=2)\n",
    "Phone = Label(root, text = \"Phone\")\n",
    "Phone.grid(row=2, column=2)\n",
    "Gender = Label(root, text = \"Gender\")\n",
    "Gender.grid(row=3, column=2)\n",
    "Country = Label(root, text = \"Country\")\n",
    "Country.grid(row=4, column=2)\n",
    "Payment_Mode = Label(root, text = \"Payment_mode\")\n",
    "Payment_Mode.grid(row=5, column=2)\n",
    "\n",
    "Name_value = StringVar\n",
    "Phone_value = StringVar\n",
    "Gender_value = StringVar\n",
    "Country_value = StringVar\n",
    "Payment_Mode_value = StringVar\n",
    "checkvalue = IntVar\n",
    "\n",
    "Name_entry = Entry(root, textvariable = Name_value)\n",
    "Name_entry.grid(row=1, column=3)\n",
    "Phone_entry = Entry(root, textvariable = Phone_value)\n",
    "Phone_entry.grid(row=2, column=3)\n",
    "Gender_entry = Entry(root, textvariable = Gender_value)\n",
    "Gender_entry.grid(row=3, column=3)\n",
    "Country_entry = Entry(root, textvariable= Country_value)\n",
    "Country_entry.grid(row=4, column=3)\n",
    "Payment_Mode_entry = Entry(root, textvariable = Payment_Mode_value)\n",
    "Payment_Mode_entry.grid(row=5, column=3)\n",
    "\n",
    "Check_btn = Checkbutton(text=\"Remember me?\", variable=checkvalue)\n",
    "Check_btn.grid(row=6, column=3)\n",
    "\n",
    "Button(text=\"Submit\", command=getvals).grid(row=7, column=3)\n",
    "\n",
    "\n",
    "root.mainloop()"
   ]
  }
 ],
 "metadata": {
  "colab": {
   "authorship_tag": "ABX9TyMfZEBr3F7Bx2G9Uk9VNByX",
   "include_colab_link": true,
   "name": "Make-your-own-registration-form.ipynb",
   "provenance": []
  },
  "kernelspec": {
   "display_name": "Python 3",
   "name": "python3"
  },
  "language_info": {
   "name": "python"
  }
 },
 "nbformat": 4,
 "nbformat_minor": 0
}
